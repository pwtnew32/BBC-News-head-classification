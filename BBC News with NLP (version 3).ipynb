{
 "cells": [
  {
   "cell_type": "code",
   "execution_count": 1,
   "metadata": {},
   "outputs": [
    {
     "name": "stdout",
     "output_type": "stream",
     "text": [
      "Requirement already satisfied: nltk in c:\\users\\user\\appdata\\roaming\\python\\python38\\site-packages (3.6.2)\n",
      "Requirement already satisfied: click in c:\\users\\user\\anaconda3\\lib\\site-packages (from nltk) (7.1.2)\n",
      "Requirement already satisfied: regex in c:\\users\\user\\anaconda3\\lib\\site-packages (from nltk) (2021.4.4)\n",
      "Requirement already satisfied: joblib in c:\\users\\user\\anaconda3\\lib\\site-packages (from nltk) (1.0.1)\n",
      "Requirement already satisfied: tqdm in c:\\users\\user\\anaconda3\\lib\\site-packages (from nltk) (4.59.0)\n",
      "Note: you may need to restart the kernel to use updated packages.\n"
     ]
    }
   ],
   "source": [
    "#pip install --user -U nltk run thsi code if uninstall nltk package."
   ]
  },
  {
   "cell_type": "markdown",
   "metadata": {},
   "source": [
    "# Import libralies"
   ]
  },
  {
   "cell_type": "code",
   "execution_count": 2,
   "metadata": {},
   "outputs": [
    {
     "name": "stderr",
     "output_type": "stream",
     "text": [
      "[nltk_data] Downloading package punkt to\n",
      "[nltk_data]     C:\\Users\\User\\AppData\\Roaming\\nltk_data...\n",
      "[nltk_data]   Package punkt is already up-to-date!\n",
      "[nltk_data] Downloading package stopwords to\n",
      "[nltk_data]     C:\\Users\\User\\AppData\\Roaming\\nltk_data...\n",
      "[nltk_data]   Package stopwords is already up-to-date!\n"
     ]
    },
    {
     "data": {
      "text/plain": [
       "True"
      ]
     },
     "execution_count": 2,
     "metadata": {},
     "output_type": "execute_result"
    }
   ],
   "source": [
    "import pandas as pd\n",
    "import json\n",
    "import tensorflow as tf\n",
    "import csv\n",
    "import random\n",
    "import numpy as np\n",
    "import nltk\n",
    "from nltk.corpus import stopwords\n",
    "from nltk.tokenize import word_tokenize\n",
    "nltk.download('punkt')\n",
    "nltk.download('stopwords')"
   ]
  },
  {
   "cell_type": "markdown",
   "metadata": {},
   "source": [
    "# Load data"
   ]
  },
  {
   "cell_type": "markdown",
   "metadata": {},
   "source": [
    "Load prepared csv file."
   ]
  },
  {
   "cell_type": "code",
   "execution_count": 2,
   "metadata": {},
   "outputs": [
    {
     "data": {
      "text/html": [
       "<div>\n",
       "<style scoped>\n",
       "    .dataframe tbody tr th:only-of-type {\n",
       "        vertical-align: middle;\n",
       "    }\n",
       "\n",
       "    .dataframe tbody tr th {\n",
       "        vertical-align: top;\n",
       "    }\n",
       "\n",
       "    .dataframe thead th {\n",
       "        text-align: right;\n",
       "    }\n",
       "</style>\n",
       "<table border=\"1\" class=\"dataframe\">\n",
       "  <thead>\n",
       "    <tr style=\"text-align: right;\">\n",
       "      <th></th>\n",
       "      <th>Text</th>\n",
       "      <th>Categories</th>\n",
       "    </tr>\n",
       "  </thead>\n",
       "  <tbody>\n",
       "    <tr>\n",
       "      <th>0</th>\n",
       "      <td>worldcom ex-boss launches defence lawyers defe...</td>\n",
       "      <td>0</td>\n",
       "    </tr>\n",
       "    <tr>\n",
       "      <th>1</th>\n",
       "      <td>german business confidence slides german busin...</td>\n",
       "      <td>0</td>\n",
       "    </tr>\n",
       "    <tr>\n",
       "      <th>2</th>\n",
       "      <td>bbc poll indicates economic gloom citizens in ...</td>\n",
       "      <td>0</td>\n",
       "    </tr>\n",
       "    <tr>\n",
       "      <th>3</th>\n",
       "      <td>lifestyle  governs mobile choice  faster  bett...</td>\n",
       "      <td>4</td>\n",
       "    </tr>\n",
       "    <tr>\n",
       "      <th>4</th>\n",
       "      <td>enron bosses in $168m payout eighteen former e...</td>\n",
       "      <td>0</td>\n",
       "    </tr>\n",
       "  </tbody>\n",
       "</table>\n",
       "</div>"
      ],
      "text/plain": [
       "                                                Text  Categories\n",
       "0  worldcom ex-boss launches defence lawyers defe...           0\n",
       "1  german business confidence slides german busin...           0\n",
       "2  bbc poll indicates economic gloom citizens in ...           0\n",
       "3  lifestyle  governs mobile choice  faster  bett...           4\n",
       "4  enron bosses in $168m payout eighteen former e...           0"
      ]
     },
     "execution_count": 2,
     "metadata": {},
     "output_type": "execute_result"
    }
   ],
   "source": [
    "train_data = pd.read_csv('train_data_prepared.csv')\n",
    "train_data.head()"
   ]
  },
  {
   "cell_type": "markdown",
   "metadata": {},
   "source": [
    "Declare stopwords for removing stopwords."
   ]
  },
  {
   "cell_type": "code",
   "execution_count": 4,
   "metadata": {},
   "outputs": [],
   "source": [
    "stopwords = set(stopwords.words(\"english\")) #Using stopwords from nltk package."
   ]
  },
  {
   "cell_type": "markdown",
   "metadata": {},
   "source": [
    "Create list for collect the tokened words and labels."
   ]
  },
  {
   "cell_type": "code",
   "execution_count": 5,
   "metadata": {},
   "outputs": [
    {
     "name": "stdout",
     "output_type": "stream",
     "text": [
      "1490\n"
     ]
    }
   ],
   "source": [
    "tokened = []\n",
    "labels = []\n",
    "\n",
    "for text in train_data['Text']:\n",
    "    text = word_tokenize(text)\n",
    "    tokened.append(text)\n",
    "                \n",
    "for label in train_data['Categories']:\n",
    "    labels.append(label)\n",
    "    \n",
    "    \n",
    "print(len(tokened)) "
   ]
  },
  {
   "cell_type": "code",
   "execution_count": 6,
   "metadata": {},
   "outputs": [
    {
     "data": {
      "text/html": [
       "<div>\n",
       "<style scoped>\n",
       "    .dataframe tbody tr th:only-of-type {\n",
       "        vertical-align: middle;\n",
       "    }\n",
       "\n",
       "    .dataframe tbody tr th {\n",
       "        vertical-align: top;\n",
       "    }\n",
       "\n",
       "    .dataframe thead th {\n",
       "        text-align: right;\n",
       "    }\n",
       "</style>\n",
       "<table border=\"1\" class=\"dataframe\">\n",
       "  <thead>\n",
       "    <tr style=\"text-align: right;\">\n",
       "      <th></th>\n",
       "      <th>Text</th>\n",
       "      <th>Categories</th>\n",
       "      <th>Text_tokened</th>\n",
       "    </tr>\n",
       "  </thead>\n",
       "  <tbody>\n",
       "    <tr>\n",
       "      <th>0</th>\n",
       "      <td>worldcom ex-boss launches defence lawyers defe...</td>\n",
       "      <td>0</td>\n",
       "      <td>[worldcom, ex-boss, launches, defence, lawyers...</td>\n",
       "    </tr>\n",
       "    <tr>\n",
       "      <th>1</th>\n",
       "      <td>german business confidence slides german busin...</td>\n",
       "      <td>0</td>\n",
       "      <td>[german, business, confidence, slides, german,...</td>\n",
       "    </tr>\n",
       "    <tr>\n",
       "      <th>2</th>\n",
       "      <td>bbc poll indicates economic gloom citizens in ...</td>\n",
       "      <td>0</td>\n",
       "      <td>[bbc, poll, indicates, economic, gloom, citize...</td>\n",
       "    </tr>\n",
       "    <tr>\n",
       "      <th>3</th>\n",
       "      <td>lifestyle  governs mobile choice  faster  bett...</td>\n",
       "      <td>4</td>\n",
       "      <td>[lifestyle, governs, mobile, choice, faster, b...</td>\n",
       "    </tr>\n",
       "    <tr>\n",
       "      <th>4</th>\n",
       "      <td>enron bosses in $168m payout eighteen former e...</td>\n",
       "      <td>0</td>\n",
       "      <td>[enron, bosses, in, $, 168m, payout, eighteen,...</td>\n",
       "    </tr>\n",
       "  </tbody>\n",
       "</table>\n",
       "</div>"
      ],
      "text/plain": [
       "                                                Text  Categories  \\\n",
       "0  worldcom ex-boss launches defence lawyers defe...           0   \n",
       "1  german business confidence slides german busin...           0   \n",
       "2  bbc poll indicates economic gloom citizens in ...           0   \n",
       "3  lifestyle  governs mobile choice  faster  bett...           4   \n",
       "4  enron bosses in $168m payout eighteen former e...           0   \n",
       "\n",
       "                                        Text_tokened  \n",
       "0  [worldcom, ex-boss, launches, defence, lawyers...  \n",
       "1  [german, business, confidence, slides, german,...  \n",
       "2  [bbc, poll, indicates, economic, gloom, citize...  \n",
       "3  [lifestyle, governs, mobile, choice, faster, b...  \n",
       "4  [enron, bosses, in, $, 168m, payout, eighteen,...  "
      ]
     },
     "execution_count": 6,
     "metadata": {},
     "output_type": "execute_result"
    }
   ],
   "source": [
    "train_data['Text_tokened'] = tokened\n",
    "train_data.head()"
   ]
  },
  {
   "cell_type": "markdown",
   "metadata": {},
   "source": [
    "# Removing stopwords and punctuation words."
   ]
  },
  {
   "cell_type": "code",
   "execution_count": 7,
   "metadata": {},
   "outputs": [
    {
     "data": {
      "text/html": [
       "<div>\n",
       "<style scoped>\n",
       "    .dataframe tbody tr th:only-of-type {\n",
       "        vertical-align: middle;\n",
       "    }\n",
       "\n",
       "    .dataframe tbody tr th {\n",
       "        vertical-align: top;\n",
       "    }\n",
       "\n",
       "    .dataframe thead th {\n",
       "        text-align: right;\n",
       "    }\n",
       "</style>\n",
       "<table border=\"1\" class=\"dataframe\">\n",
       "  <thead>\n",
       "    <tr style=\"text-align: right;\">\n",
       "      <th></th>\n",
       "      <th>Text</th>\n",
       "      <th>Categories</th>\n",
       "      <th>Text_tokened</th>\n",
       "    </tr>\n",
       "  </thead>\n",
       "  <tbody>\n",
       "    <tr>\n",
       "      <th>0</th>\n",
       "      <td>worldcom ex-boss launches defence lawyers defe...</td>\n",
       "      <td>0</td>\n",
       "      <td>[worldcom, ex-boss, launches, defence, lawyers...</td>\n",
       "    </tr>\n",
       "    <tr>\n",
       "      <th>1</th>\n",
       "      <td>german business confidence slides german busin...</td>\n",
       "      <td>0</td>\n",
       "      <td>[german, business, confidence, slides, german,...</td>\n",
       "    </tr>\n",
       "    <tr>\n",
       "      <th>2</th>\n",
       "      <td>bbc poll indicates economic gloom citizens in ...</td>\n",
       "      <td>0</td>\n",
       "      <td>[bbc, poll, indicates, economic, gloom, citize...</td>\n",
       "    </tr>\n",
       "    <tr>\n",
       "      <th>3</th>\n",
       "      <td>lifestyle  governs mobile choice  faster  bett...</td>\n",
       "      <td>4</td>\n",
       "      <td>[lifestyle, governs, mobile, choice, faster, b...</td>\n",
       "    </tr>\n",
       "    <tr>\n",
       "      <th>4</th>\n",
       "      <td>enron bosses in $168m payout eighteen former e...</td>\n",
       "      <td>0</td>\n",
       "      <td>[enron, bosses, 168m, payout, eighteen, former...</td>\n",
       "    </tr>\n",
       "  </tbody>\n",
       "</table>\n",
       "</div>"
      ],
      "text/plain": [
       "                                                Text  Categories  \\\n",
       "0  worldcom ex-boss launches defence lawyers defe...           0   \n",
       "1  german business confidence slides german busin...           0   \n",
       "2  bbc poll indicates economic gloom citizens in ...           0   \n",
       "3  lifestyle  governs mobile choice  faster  bett...           4   \n",
       "4  enron bosses in $168m payout eighteen former e...           0   \n",
       "\n",
       "                                        Text_tokened  \n",
       "0  [worldcom, ex-boss, launches, defence, lawyers...  \n",
       "1  [german, business, confidence, slides, german,...  \n",
       "2  [bbc, poll, indicates, economic, gloom, citize...  \n",
       "3  [lifestyle, governs, mobile, choice, faster, b...  \n",
       "4  [enron, bosses, 168m, payout, eighteen, former...  "
      ]
     },
     "execution_count": 7,
     "metadata": {},
     "output_type": "execute_result"
    }
   ],
   "source": [
    "import string\n",
    "\n",
    "def remove_stopwords(tokened):\n",
    "    tokened_new = [w for w in tokened if w not in stopwords and w not in string.punctuation ]\n",
    "    return tokened_new\n",
    "\n",
    "train_data['Text_tokened'] = train_data['Text_tokened'].apply(lambda x: remove_stopwords(x))\n",
    "\n",
    "train_data.head()\n"
   ]
  },
  {
   "cell_type": "markdown",
   "metadata": {},
   "source": [
    "Create list to collect tokened and removed stopwords words."
   ]
  },
  {
   "cell_type": "code",
   "execution_count": 9,
   "metadata": {},
   "outputs": [],
   "source": [
    "sentences_tokened = [w for w in train_data['Text_tokened']]"
   ]
  },
  {
   "cell_type": "markdown",
   "metadata": {},
   "source": [
    "Import Tokenizer to Tokened word and collect to word index, And import pad_sequences to transform tokened words into matrix that's can process in tensorflow. "
   ]
  },
  {
   "cell_type": "code",
   "execution_count": 10,
   "metadata": {},
   "outputs": [],
   "source": [
    "from tensorflow.keras.preprocessing.text import Tokenizer\n",
    "from tensorflow.keras.preprocessing.sequence import pad_sequences\n",
    "\n",
    "embedding_dim = 100\n",
    "max_length = 16\n",
    "trunc_type='post'\n",
    "padding_type='post'\n",
    "oov_tok = \"<OOV>\"\n",
    "training_size=len(sentences_tokened) + 1\n",
    "test_portion=.2\n",
    "split = int(test_portion * training_size)\n",
    "\n",
    "\n",
    "tokenizer = Tokenizer()\n",
    "tokenizer.fit_on_texts([w for w in train_data['Text']])\n",
    "\n",
    "word_index = tokenizer.word_index\n",
    "vocab_size=len(word_index)\n",
    "\n",
    "sequences = tokenizer.texts_to_sequences(sentences_tokened)\n",
    "padded = pad_sequences(sequences, maxlen=max_length, padding=padding_type, truncating=trunc_type)\n",
    "\n",
    "test_sequences = padded[0:split]\n",
    "training_sequences = padded[split:training_size]\n",
    "test_labels = labels[0:split]\n",
    "training_labels = labels[split:training_size]\n",
    "\n"
   ]
  },
  {
   "cell_type": "markdown",
   "metadata": {},
   "source": [
    "# Import model"
   ]
  },
  {
   "cell_type": "markdown",
   "metadata": {},
   "source": [
    "Create Depp NN model. First layer is Embedding layers, and I use Convolution layer and MaxPolling to filter better.Loss function is spare categoial crossentropy because the classes have 5 calsses."
   ]
  },
  {
   "cell_type": "code",
   "execution_count": 12,
   "metadata": {},
   "outputs": [
    {
     "name": "stdout",
     "output_type": "stream",
     "text": [
      "Model: \"sequential\"\n",
      "_________________________________________________________________\n",
      "Layer (type)                 Output Shape              Param #   \n",
      "=================================================================\n",
      "embedding (Embedding)        (None, 16, 100)           2498400   \n",
      "_________________________________________________________________\n",
      "dropout (Dropout)            (None, 16, 100)           0         \n",
      "_________________________________________________________________\n",
      "conv1d (Conv1D)              (None, 12, 64)            32064     \n",
      "_________________________________________________________________\n",
      "max_pooling1d (MaxPooling1D) (None, 3, 64)             0         \n",
      "_________________________________________________________________\n",
      "bidirectional (Bidirectional (None, 128)               66048     \n",
      "_________________________________________________________________\n",
      "dense (Dense)                (None, 64)                8256      \n",
      "_________________________________________________________________\n",
      "dense_1 (Dense)              (None, 5)                 325       \n",
      "=================================================================\n",
      "Total params: 2,605,093\n",
      "Trainable params: 2,605,093\n",
      "Non-trainable params: 0\n",
      "_________________________________________________________________\n",
      "Epoch 1/50\n",
      "38/38 - 7s - loss: 1.6004 - accuracy: 0.2416 - val_loss: 1.5634 - val_accuracy: 0.4295\n",
      "Epoch 2/50\n",
      "38/38 - 2s - loss: 1.1777 - accuracy: 0.6133 - val_loss: 0.5477 - val_accuracy: 0.8389\n",
      "Epoch 3/50\n",
      "38/38 - 2s - loss: 0.0681 - accuracy: 0.9832 - val_loss: 0.5209 - val_accuracy: 0.8624\n",
      "Epoch 4/50\n",
      "38/38 - 2s - loss: 0.0031 - accuracy: 0.9992 - val_loss: 0.5438 - val_accuracy: 0.8691\n",
      "Epoch 5/50\n",
      "38/38 - 2s - loss: 0.0106 - accuracy: 0.9992 - val_loss: 0.6156 - val_accuracy: 0.8591\n",
      "Epoch 6/50\n",
      "38/38 - 2s - loss: 6.4656e-04 - accuracy: 1.0000 - val_loss: 0.5947 - val_accuracy: 0.8591\n",
      "Epoch 7/50\n",
      "38/38 - 2s - loss: 1.9046e-04 - accuracy: 1.0000 - val_loss: 0.5722 - val_accuracy: 0.8691\n",
      "Epoch 8/50\n",
      "38/38 - 2s - loss: 1.4029e-04 - accuracy: 1.0000 - val_loss: 0.5649 - val_accuracy: 0.8658\n",
      "Epoch 9/50\n",
      "38/38 - 2s - loss: 1.0394e-04 - accuracy: 1.0000 - val_loss: 0.5629 - val_accuracy: 0.8624\n",
      "Epoch 10/50\n",
      "38/38 - 2s - loss: 8.8161e-05 - accuracy: 1.0000 - val_loss: 0.5628 - val_accuracy: 0.8624\n",
      "Epoch 11/50\n",
      "38/38 - 2s - loss: 7.7271e-05 - accuracy: 1.0000 - val_loss: 0.5619 - val_accuracy: 0.8658\n",
      "Epoch 12/50\n",
      "38/38 - 2s - loss: 6.3486e-05 - accuracy: 1.0000 - val_loss: 0.5647 - val_accuracy: 0.8658\n",
      "Epoch 13/50\n",
      "38/38 - 2s - loss: 5.6509e-05 - accuracy: 1.0000 - val_loss: 0.5645 - val_accuracy: 0.8658\n",
      "Epoch 14/50\n",
      "38/38 - 2s - loss: 5.4799e-05 - accuracy: 1.0000 - val_loss: 0.5657 - val_accuracy: 0.8691\n",
      "Epoch 15/50\n",
      "38/38 - 2s - loss: 3.8597e-05 - accuracy: 1.0000 - val_loss: 0.5669 - val_accuracy: 0.8691\n",
      "Epoch 16/50\n",
      "38/38 - 2s - loss: 3.6078e-05 - accuracy: 1.0000 - val_loss: 0.5669 - val_accuracy: 0.8658\n",
      "Epoch 17/50\n",
      "38/38 - 2s - loss: 3.1454e-05 - accuracy: 1.0000 - val_loss: 0.5677 - val_accuracy: 0.8658\n",
      "Epoch 18/50\n",
      "38/38 - 2s - loss: 2.6905e-05 - accuracy: 1.0000 - val_loss: 0.5690 - val_accuracy: 0.8658\n",
      "Epoch 19/50\n",
      "38/38 - 2s - loss: 2.5213e-05 - accuracy: 1.0000 - val_loss: 0.5703 - val_accuracy: 0.8658\n",
      "Epoch 20/50\n",
      "38/38 - 2s - loss: 2.1795e-05 - accuracy: 1.0000 - val_loss: 0.5710 - val_accuracy: 0.8658\n",
      "Epoch 21/50\n",
      "38/38 - 2s - loss: 2.1806e-05 - accuracy: 1.0000 - val_loss: 0.5732 - val_accuracy: 0.8658\n",
      "Epoch 22/50\n",
      "38/38 - 2s - loss: 1.7857e-05 - accuracy: 1.0000 - val_loss: 0.5758 - val_accuracy: 0.8658\n",
      "Epoch 23/50\n",
      "38/38 - 2s - loss: 1.7519e-05 - accuracy: 1.0000 - val_loss: 0.5761 - val_accuracy: 0.8691\n",
      "Epoch 24/50\n",
      "38/38 - 2s - loss: 1.5761e-05 - accuracy: 1.0000 - val_loss: 0.5793 - val_accuracy: 0.8658\n",
      "Epoch 25/50\n",
      "38/38 - 2s - loss: 1.5325e-05 - accuracy: 1.0000 - val_loss: 0.5806 - val_accuracy: 0.8691\n",
      "Epoch 26/50\n",
      "38/38 - 2s - loss: 1.3448e-05 - accuracy: 1.0000 - val_loss: 0.5804 - val_accuracy: 0.8691\n",
      "Epoch 27/50\n",
      "38/38 - 2s - loss: 1.2368e-05 - accuracy: 1.0000 - val_loss: 0.5817 - val_accuracy: 0.8691\n",
      "Epoch 28/50\n",
      "38/38 - 2s - loss: 1.2235e-05 - accuracy: 1.0000 - val_loss: 0.5836 - val_accuracy: 0.8691\n",
      "Epoch 29/50\n",
      "38/38 - 2s - loss: 1.1117e-05 - accuracy: 1.0000 - val_loss: 0.5843 - val_accuracy: 0.8691\n",
      "Epoch 30/50\n",
      "38/38 - 2s - loss: 1.0393e-05 - accuracy: 1.0000 - val_loss: 0.5859 - val_accuracy: 0.8691\n",
      "Epoch 31/50\n",
      "38/38 - 2s - loss: 9.9812e-06 - accuracy: 1.0000 - val_loss: 0.5883 - val_accuracy: 0.8691\n",
      "Epoch 32/50\n",
      "38/38 - 2s - loss: 9.1385e-06 - accuracy: 1.0000 - val_loss: 0.5901 - val_accuracy: 0.8691\n",
      "Epoch 33/50\n",
      "38/38 - 2s - loss: 8.7568e-06 - accuracy: 1.0000 - val_loss: 0.5919 - val_accuracy: 0.8691\n",
      "Epoch 34/50\n",
      "38/38 - 2s - loss: 8.0840e-06 - accuracy: 1.0000 - val_loss: 0.5930 - val_accuracy: 0.8658\n",
      "Epoch 35/50\n",
      "38/38 - 2s - loss: 7.7509e-06 - accuracy: 1.0000 - val_loss: 0.5948 - val_accuracy: 0.8658\n",
      "Epoch 36/50\n",
      "38/38 - 2s - loss: 7.1258e-06 - accuracy: 1.0000 - val_loss: 0.5962 - val_accuracy: 0.8658\n",
      "Epoch 37/50\n",
      "38/38 - 2s - loss: 7.3872e-06 - accuracy: 1.0000 - val_loss: 0.5978 - val_accuracy: 0.8658\n",
      "Epoch 38/50\n",
      "38/38 - 2s - loss: 6.7577e-06 - accuracy: 1.0000 - val_loss: 0.5994 - val_accuracy: 0.8658\n",
      "Epoch 39/50\n",
      "38/38 - 2s - loss: 6.3457e-06 - accuracy: 1.0000 - val_loss: 0.5998 - val_accuracy: 0.8658\n",
      "Epoch 40/50\n",
      "38/38 - 2s - loss: 6.4679e-06 - accuracy: 1.0000 - val_loss: 0.6014 - val_accuracy: 0.8658\n",
      "Epoch 41/50\n",
      "38/38 - 2s - loss: 5.7422e-06 - accuracy: 1.0000 - val_loss: 0.6025 - val_accuracy: 0.8658\n",
      "Epoch 42/50\n",
      "38/38 - 2s - loss: 5.6155e-06 - accuracy: 1.0000 - val_loss: 0.6037 - val_accuracy: 0.8658\n",
      "Epoch 43/50\n",
      "38/38 - 2s - loss: 5.3264e-06 - accuracy: 1.0000 - val_loss: 0.6044 - val_accuracy: 0.8658\n",
      "Epoch 44/50\n",
      "38/38 - 2s - loss: 5.2784e-06 - accuracy: 1.0000 - val_loss: 0.6058 - val_accuracy: 0.8658\n",
      "Epoch 45/50\n",
      "38/38 - 2s - loss: 5.1163e-06 - accuracy: 1.0000 - val_loss: 0.6075 - val_accuracy: 0.8658\n",
      "Epoch 46/50\n",
      "38/38 - 2s - loss: 4.9590e-06 - accuracy: 1.0000 - val_loss: 0.6091 - val_accuracy: 0.8658\n",
      "Epoch 47/50\n",
      "38/38 - 2s - loss: 4.8266e-06 - accuracy: 1.0000 - val_loss: 0.6109 - val_accuracy: 0.8691\n",
      "Epoch 48/50\n",
      "38/38 - 2s - loss: 4.2889e-06 - accuracy: 1.0000 - val_loss: 0.6118 - val_accuracy: 0.8691\n",
      "Epoch 49/50\n",
      "38/38 - 2s - loss: 4.5648e-06 - accuracy: 1.0000 - val_loss: 0.6116 - val_accuracy: 0.8691\n",
      "Epoch 50/50\n",
      "38/38 - 2s - loss: 4.2648e-06 - accuracy: 1.0000 - val_loss: 0.6127 - val_accuracy: 0.8691\n",
      "Training Complete\n"
     ]
    }
   ],
   "source": [
    "from tensorflow.keras.utils import to_categorical\n",
    "from tensorflow.keras import regularizers\n",
    "\n",
    "\n",
    "model = tf.keras.Sequential([\n",
    "    tf.keras.layers.Embedding(vocab_size+1, embedding_dim, input_length=max_length),\n",
    "    tf.keras.layers.Dropout(0.2),\n",
    "    tf.keras.layers.Conv1D(64, 5, activation='relu'),\n",
    "    tf.keras.layers.MaxPooling1D(pool_size=4),\n",
    "    tf.keras.layers.Bidirectional(tf.keras.layers.LSTM(64)),\n",
    "    tf.keras.layers.Dense(64, activation='relu'),\n",
    "    tf.keras.layers.Dense(5, activation='softmax')\n",
    "])\n",
    "model.compile(loss='sparse_categorical_crossentropy',optimizer='adam',metrics=['accuracy'])\n",
    "model.summary()\n",
    "\n",
    "num_epochs = 50\n",
    "\n",
    "training_padded = np.array(training_sequences)\n",
    "training_labels = np.array(training_labels)\n",
    "testing_padded = np.array(test_sequences)\n",
    "testing_labels = np.array(test_labels)\n",
    "\n",
    "history = model.fit(training_padded, training_labels, epochs=num_epochs, validation_data=(testing_padded, testing_labels), verbose=2)\n",
    "\n",
    "print(\"Training Complete\")"
   ]
  },
  {
   "cell_type": "markdown",
   "metadata": {},
   "source": [
    "# Plot Accuracy and Loss"
   ]
  },
  {
   "cell_type": "code",
   "execution_count": 13,
   "metadata": {},
   "outputs": [
    {
     "data": {
      "text/plain": [
       "<Figure size 432x288 with 0 Axes>"
      ]
     },
     "execution_count": 13,
     "metadata": {},
     "output_type": "execute_result"
    },
    {
     "data": {
      "image/png": "[encoded data removed]",
      "text/plain": [
       "<Figure size 432x288 with 1 Axes>"
      ]
     },
     "metadata": {
      "needs_background": "light"
     },
     "output_type": "display_data"
    },
    {
     "data": {
      "image/png": "[encoded data removed]",
      "text/plain": [
       "<Figure size 432x288 with 1 Axes>"
      ]
     },
     "metadata": {
      "needs_background": "light"
     },
     "output_type": "display_data"
    },
    {
     "data": {
      "text/plain": [
       "<Figure size 432x288 with 0 Axes>"
      ]
     },
     "metadata": {},
     "output_type": "display_data"
    }
   ],
   "source": [
    "import matplotlib.image  as mpimg\n",
    "import matplotlib.pyplot as plt\n",
    "\n",
    "#-----------------------------------------------------------\n",
    "# Retrieve a list of list results on training and test data\n",
    "# sets for each training epoch\n",
    "#-----------------------------------------------------------\n",
    "acc=history.history['accuracy']\n",
    "val_acc=history.history['val_accuracy']\n",
    "loss=history.history['loss']\n",
    "val_loss=history.history['val_loss']\n",
    "\n",
    "epochs=range(len(acc)) # Get number of epochs\n",
    "\n",
    "#------------------------------------------------\n",
    "# Plot training and validation accuracy per epoch\n",
    "#------------------------------------------------\n",
    "plt.plot(epochs, acc, 'r')\n",
    "plt.plot(epochs, val_acc, 'b')\n",
    "plt.title('Training and validation accuracy')\n",
    "plt.xlabel(\"Epochs\")\n",
    "plt.ylabel(\"Accuracy\")\n",
    "plt.legend([\"Accuracy\", \"Validation Accuracy\"])\n",
    "\n",
    "plt.figure()\n",
    "\n",
    "#------------------------------------------------\n",
    "# Plot training and validation loss per epoch\n",
    "#------------------------------------------------\n",
    "plt.plot(epochs, loss, 'r')\n",
    "plt.plot(epochs, val_loss, 'b')\n",
    "plt.title('Training and validation loss')\n",
    "plt.xlabel(\"Epochs\")\n",
    "plt.ylabel(\"Loss\")\n",
    "plt.legend([\"Loss\", \"Validation Loss\"])\n",
    "\n",
    "plt.figure()\n",
    "\n",
    "\n",
    "# Expected Output\n",
    "# A chart where the validation loss does not increase sharply!"
   ]
  },
  {
   "cell_type": "markdown",
   "metadata": {},
   "source": [
    "From accuracy graph, Training accuracy and validation accuracy is neary form,but the loss of traing and validation is apparently different but I accept a bit overfitting."
   ]
  },
  {
   "cell_type": "code",
   "execution_count": 14,
   "metadata": {},
   "outputs": [
    {
     "data": {
      "text/html": [
       "<div>\n",
       "<style scoped>\n",
       "    .dataframe tbody tr th:only-of-type {\n",
       "        vertical-align: middle;\n",
       "    }\n",
       "\n",
       "    .dataframe tbody tr th {\n",
       "        vertical-align: top;\n",
       "    }\n",
       "\n",
       "    .dataframe thead th {\n",
       "        text-align: right;\n",
       "    }\n",
       "</style>\n",
       "<table border=\"1\" class=\"dataframe\">\n",
       "  <thead>\n",
       "    <tr style=\"text-align: right;\">\n",
       "      <th></th>\n",
       "      <th>ArticleId</th>\n",
       "      <th>Text</th>\n",
       "    </tr>\n",
       "  </thead>\n",
       "  <tbody>\n",
       "    <tr>\n",
       "      <th>0</th>\n",
       "      <td>1018</td>\n",
       "      <td>qpr keeper day heads for preston queens park r...</td>\n",
       "    </tr>\n",
       "    <tr>\n",
       "      <th>1</th>\n",
       "      <td>1319</td>\n",
       "      <td>software watching while you work software that...</td>\n",
       "    </tr>\n",
       "    <tr>\n",
       "      <th>2</th>\n",
       "      <td>1138</td>\n",
       "      <td>d arcy injury adds to ireland woe gordon d arc...</td>\n",
       "    </tr>\n",
       "    <tr>\n",
       "      <th>3</th>\n",
       "      <td>459</td>\n",
       "      <td>india s reliance family feud heats up the ongo...</td>\n",
       "    </tr>\n",
       "    <tr>\n",
       "      <th>4</th>\n",
       "      <td>1020</td>\n",
       "      <td>boro suffer morrison injury blow middlesbrough...</td>\n",
       "    </tr>\n",
       "  </tbody>\n",
       "</table>\n",
       "</div>"
      ],
      "text/plain": [
       "   ArticleId                                               Text\n",
       "0       1018  qpr keeper day heads for preston queens park r...\n",
       "1       1319  software watching while you work software that...\n",
       "2       1138  d arcy injury adds to ireland woe gordon d arc...\n",
       "3        459  india s reliance family feud heats up the ongo...\n",
       "4       1020  boro suffer morrison injury blow middlesbrough..."
      ]
     },
     "execution_count": 14,
     "metadata": {},
     "output_type": "execute_result"
    }
   ],
   "source": [
    "test_data = pd.read_csv('BBC News test.csv')\n",
    "test_data.head()"
   ]
  },
  {
   "cell_type": "code",
   "execution_count": 16,
   "metadata": {},
   "outputs": [
    {
     "data": {
      "text/html": [
       "<div>\n",
       "<style scoped>\n",
       "    .dataframe tbody tr th:only-of-type {\n",
       "        vertical-align: middle;\n",
       "    }\n",
       "\n",
       "    .dataframe tbody tr th {\n",
       "        vertical-align: top;\n",
       "    }\n",
       "\n",
       "    .dataframe thead th {\n",
       "        text-align: right;\n",
       "    }\n",
       "</style>\n",
       "<table border=\"1\" class=\"dataframe\">\n",
       "  <thead>\n",
       "    <tr style=\"text-align: right;\">\n",
       "      <th></th>\n",
       "      <th>ArticleId</th>\n",
       "      <th>Text</th>\n",
       "      <th>Text_tokened</th>\n",
       "    </tr>\n",
       "  </thead>\n",
       "  <tbody>\n",
       "    <tr>\n",
       "      <th>0</th>\n",
       "      <td>1018</td>\n",
       "      <td>qpr keeper day heads for preston queens park r...</td>\n",
       "      <td>[qpr, keeper, day, heads, for, preston, queens...</td>\n",
       "    </tr>\n",
       "    <tr>\n",
       "      <th>1</th>\n",
       "      <td>1319</td>\n",
       "      <td>software watching while you work software that...</td>\n",
       "      <td>[software, watching, while, you, work, softwar...</td>\n",
       "    </tr>\n",
       "    <tr>\n",
       "      <th>2</th>\n",
       "      <td>1138</td>\n",
       "      <td>d arcy injury adds to ireland woe gordon d arc...</td>\n",
       "      <td>[d, arcy, injury, adds, to, ireland, woe, gord...</td>\n",
       "    </tr>\n",
       "    <tr>\n",
       "      <th>3</th>\n",
       "      <td>459</td>\n",
       "      <td>india s reliance family feud heats up the ongo...</td>\n",
       "      <td>[india, s, reliance, family, feud, heats, up, ...</td>\n",
       "    </tr>\n",
       "    <tr>\n",
       "      <th>4</th>\n",
       "      <td>1020</td>\n",
       "      <td>boro suffer morrison injury blow middlesbrough...</td>\n",
       "      <td>[boro, suffer, morrison, injury, blow, middles...</td>\n",
       "    </tr>\n",
       "  </tbody>\n",
       "</table>\n",
       "</div>"
      ],
      "text/plain": [
       "   ArticleId                                               Text  \\\n",
       "0       1018  qpr keeper day heads for preston queens park r...   \n",
       "1       1319  software watching while you work software that...   \n",
       "2       1138  d arcy injury adds to ireland woe gordon d arc...   \n",
       "3        459  india s reliance family feud heats up the ongo...   \n",
       "4       1020  boro suffer morrison injury blow middlesbrough...   \n",
       "\n",
       "                                        Text_tokened  \n",
       "0  [qpr, keeper, day, heads, for, preston, queens...  \n",
       "1  [software, watching, while, you, work, softwar...  \n",
       "2  [d, arcy, injury, adds, to, ireland, woe, gord...  \n",
       "3  [india, s, reliance, family, feud, heats, up, ...  \n",
       "4  [boro, suffer, morrison, injury, blow, middles...  "
      ]
     },
     "execution_count": 16,
     "metadata": {},
     "output_type": "execute_result"
    }
   ],
   "source": [
    "test_tokened = []\n",
    "for text in test_data['Text']:\n",
    "    text = word_tokenize(text)\n",
    "    test_tokened.append(text)\n",
    "    \n",
    "test_data['Text_tokened'] = test_tokened\n",
    "\n",
    "test_data.head()"
   ]
  },
  {
   "cell_type": "code",
   "execution_count": 17,
   "metadata": {},
   "outputs": [],
   "source": [
    "test_data['Text_tokened'] = test_data['Text_tokened'].apply(lambda x: remove_stopwords(x))"
   ]
  },
  {
   "cell_type": "code",
   "execution_count": 18,
   "metadata": {},
   "outputs": [],
   "source": [
    "test_sentences = [w for w in test_data['Text_tokened']]"
   ]
  },
  {
   "cell_type": "code",
   "execution_count": 19,
   "metadata": {},
   "outputs": [
    {
     "data": {
      "text/plain": [
       "array([[15218,  2249,   231, ...,  6853,   234,  3194],\n",
       "       [  235,  1789,   153, ...,  7116,   601,  1366],\n",
       "       [ 5143,   475,  2609, ...,  2164,   428,  5419],\n",
       "       ...,\n",
       "       [  717,  6467,   734, ...,  1605,   182,  6467],\n",
       "       [10084,    94,  1416, ...,  1668,  4269,    13],\n",
       "       [ 5637,   574, 15201, ...,  1346,    13,   801]])"
      ]
     },
     "execution_count": 19,
     "metadata": {},
     "output_type": "execute_result"
    }
   ],
   "source": [
    "test_tokenizer = Tokenizer()\n",
    "test_tokenizer.fit_on_texts(test_sentences)\n",
    "\n",
    "test_sequences = tokenizer.texts_to_sequences(test_sentences)\n",
    "test_padded = pad_sequences(test_sequences, maxlen=max_length, padding=padding_type, truncating=trunc_type)\n",
    "\n",
    "test_padded = np.array(test_padded)\n",
    "test_padded"
   ]
  },
  {
   "cell_type": "code",
   "execution_count": 20,
   "metadata": {},
   "outputs": [
    {
     "data": {
      "text/plain": [
       "array([3, 4, 3, 0, 3, 3, 2, 1, 1, 0, 0, 4, 2, 4, 1, 3, 2, 4, 1, 0, 0, 2,\n",
       "       3, 0, 2, 3, 0, 3, 3, 0, 2, 4, 0, 0, 3, 3, 3, 0, 1, 4, 0, 2, 1, 4,\n",
       "       3, 4, 1, 0, 2, 0, 2, 0, 0, 0, 4, 0, 4, 1, 4, 4, 3, 1, 4, 2, 0, 1,\n",
       "       3, 4, 3, 3, 0, 3, 0, 2, 4, 3, 4, 4, 4, 1, 2, 3, 1, 1, 0, 1, 0, 1,\n",
       "       0, 4, 0, 2, 3, 4, 3, 3, 3, 3, 3, 3, 2, 3, 4, 1, 0, 3, 2, 3, 0, 1,\n",
       "       3, 0, 1, 3, 2, 3, 2, 3, 2, 0, 1, 4, 1, 1, 4, 3, 0, 1, 0, 1, 0, 0,\n",
       "       2, 4, 0, 0, 2, 4, 3, 3, 0, 4, 4, 1, 0, 3, 3, 1, 1, 4, 0, 4, 2, 1,\n",
       "       3, 3, 3, 3, 1, 4, 0, 3, 0, 4, 0, 4, 1, 4, 1, 2, 0, 2, 0, 0, 1, 2,\n",
       "       4, 3, 0, 4, 3, 2, 3, 2, 0, 4, 2, 0, 2, 1, 2, 0, 1, 3, 4, 4, 0, 4,\n",
       "       2, 0, 3, 2, 0, 1, 0, 0, 3, 4, 0, 3, 1, 4, 3, 1, 3, 4, 2, 1, 3, 1,\n",
       "       3, 1, 2, 2, 4, 1, 0, 2, 0, 4, 0, 3, 2, 2, 2, 2, 3, 0, 1, 2, 3, 2,\n",
       "       0, 3, 4, 0, 2, 0, 2, 0, 0, 3, 4, 2, 0, 2, 1, 4, 3, 3, 0, 3, 3, 3,\n",
       "       1, 3, 2, 4, 4, 3, 0, 3, 0, 3, 1, 0, 0, 1, 2, 0, 3, 3, 4, 3, 3, 1,\n",
       "       0, 3, 4, 2, 1, 0, 0, 2, 3, 1, 0, 0, 3, 3, 4, 3, 3, 0, 4, 0, 3, 2,\n",
       "       2, 1, 2, 1, 2, 0, 2, 4, 0, 3, 4, 3, 2, 3, 2, 2, 4, 2, 0, 4, 2, 4,\n",
       "       4, 1, 0, 4, 2, 0, 0, 3, 4, 1, 1, 0, 3, 4, 4, 1, 4, 0, 3, 4, 4, 0,\n",
       "       2, 4, 4, 2, 2, 3, 0, 4, 3, 0, 2, 0, 4, 3, 2, 0, 2, 2, 4, 1, 0, 0,\n",
       "       3, 3, 3, 1, 4, 1, 4, 4, 2, 0, 3, 3, 1, 1, 3, 4, 4, 3, 4, 1, 2, 4,\n",
       "       1, 0, 2, 1, 0, 4, 3, 2, 0, 0, 2, 4, 3, 0, 0, 4, 0, 4, 3, 3, 0, 0,\n",
       "       4, 3, 2, 0, 4, 4, 2, 4, 0, 1, 0, 1, 0, 1, 2, 1, 2, 2, 4, 0, 3, 0,\n",
       "       0, 1, 1, 3, 2, 1, 0, 0, 4, 1, 2, 2, 3, 0, 3, 2, 1, 1, 0, 0, 3, 2,\n",
       "       1, 4, 2, 0, 3, 3, 2, 3, 4, 0, 2, 3, 4, 4, 0, 2, 0, 2, 0, 1, 4, 3,\n",
       "       3, 2, 0, 4, 4, 3, 3, 1, 0, 1, 1, 0, 2, 3, 2, 4, 4, 0, 2, 3, 0, 3,\n",
       "       0, 2, 0, 3, 0, 4, 3, 1, 0, 4, 2, 3, 2, 1, 3, 2, 0, 0, 0, 1, 2, 2,\n",
       "       3, 0, 0, 4, 4, 3, 4, 2, 4, 0, 3, 1, 2, 0, 4, 4, 0, 4, 0, 3, 0, 0,\n",
       "       0, 2, 0, 1, 0, 1, 2, 4, 4, 0, 1, 0, 3, 3, 2, 1, 2, 3, 0, 0, 0, 1,\n",
       "       4, 3, 0, 2, 2, 4, 2, 3, 4, 0, 4, 0, 0, 3, 4, 3, 1, 4, 2, 4, 3, 2,\n",
       "       3, 4, 2, 1, 1, 2, 0, 0, 4, 0, 3, 0, 3, 1, 0, 3, 2, 3, 4, 0, 2, 3,\n",
       "       0, 3, 3, 1, 2, 4, 3, 0, 3, 4, 3, 3, 2, 4, 4, 4, 0, 0, 4, 0, 4, 0,\n",
       "       1, 3, 4, 0, 0, 0, 2, 3, 1, 4, 0, 3, 1, 0, 1, 0, 2, 3, 4, 2, 4, 3,\n",
       "       0, 0, 0, 1, 0, 1, 2, 3, 2, 4, 2, 4, 3, 4, 1, 0, 0, 1, 2, 3, 3, 3,\n",
       "       1, 4, 2, 1, 3, 3, 2, 4, 2, 1, 3, 1, 3, 3, 4, 3, 3, 0, 0, 1, 0, 4,\n",
       "       0, 0, 3, 1, 2, 1, 0, 2, 0, 4, 3, 4, 4, 2, 1, 0, 4, 1, 4, 2, 0, 4,\n",
       "       2, 2, 4, 3, 0, 1, 2, 0, 2], dtype=int64)"
      ]
     },
     "execution_count": 20,
     "metadata": {},
     "output_type": "execute_result"
    }
   ],
   "source": [
    "predictions = model.predict(test_padded)\n",
    "y_pred =np.argmax(predictions,axis=1)\n",
    "y_pred"
   ]
  },
  {
   "cell_type": "code",
   "execution_count": 22,
   "metadata": {},
   "outputs": [
    {
     "data": {
      "text/html": [
       "<div>\n",
       "<style scoped>\n",
       "    .dataframe tbody tr th:only-of-type {\n",
       "        vertical-align: middle;\n",
       "    }\n",
       "\n",
       "    .dataframe tbody tr th {\n",
       "        vertical-align: top;\n",
       "    }\n",
       "\n",
       "    .dataframe thead th {\n",
       "        text-align: right;\n",
       "    }\n",
       "</style>\n",
       "<table border=\"1\" class=\"dataframe\">\n",
       "  <thead>\n",
       "    <tr style=\"text-align: right;\">\n",
       "      <th></th>\n",
       "      <th>ArticleId</th>\n",
       "      <th>Category</th>\n",
       "    </tr>\n",
       "  </thead>\n",
       "  <tbody>\n",
       "    <tr>\n",
       "      <th>0</th>\n",
       "      <td>1018</td>\n",
       "      <td>3</td>\n",
       "    </tr>\n",
       "    <tr>\n",
       "      <th>1</th>\n",
       "      <td>1319</td>\n",
       "      <td>4</td>\n",
       "    </tr>\n",
       "    <tr>\n",
       "      <th>2</th>\n",
       "      <td>1138</td>\n",
       "      <td>3</td>\n",
       "    </tr>\n",
       "    <tr>\n",
       "      <th>3</th>\n",
       "      <td>459</td>\n",
       "      <td>0</td>\n",
       "    </tr>\n",
       "    <tr>\n",
       "      <th>4</th>\n",
       "      <td>1020</td>\n",
       "      <td>3</td>\n",
       "    </tr>\n",
       "  </tbody>\n",
       "</table>\n",
       "</div>"
      ],
      "text/plain": [
       "   ArticleId  Category\n",
       "0       1018         3\n",
       "1       1319         4\n",
       "2       1138         3\n",
       "3        459         0\n",
       "4       1020         3"
      ]
     },
     "execution_count": 22,
     "metadata": {},
     "output_type": "execute_result"
    }
   ],
   "source": [
    "submission_v2 = pd.DataFrame({'ArticleId':test_data['ArticleId'], 'Category': y_pred})\n",
    "submission_v2.head()"
   ]
  },
  {
   "cell_type": "code",
   "execution_count": 23,
   "metadata": {},
   "outputs": [
    {
     "data": {
      "text/html": [
       "<div>\n",
       "<style scoped>\n",
       "    .dataframe tbody tr th:only-of-type {\n",
       "        vertical-align: middle;\n",
       "    }\n",
       "\n",
       "    .dataframe tbody tr th {\n",
       "        vertical-align: top;\n",
       "    }\n",
       "\n",
       "    .dataframe thead th {\n",
       "        text-align: right;\n",
       "    }\n",
       "</style>\n",
       "<table border=\"1\" class=\"dataframe\">\n",
       "  <thead>\n",
       "    <tr style=\"text-align: right;\">\n",
       "      <th></th>\n",
       "      <th>ArticleId</th>\n",
       "      <th>Category</th>\n",
       "    </tr>\n",
       "  </thead>\n",
       "  <tbody>\n",
       "    <tr>\n",
       "      <th>0</th>\n",
       "      <td>1018</td>\n",
       "      <td>sport</td>\n",
       "    </tr>\n",
       "    <tr>\n",
       "      <th>1</th>\n",
       "      <td>1319</td>\n",
       "      <td>tech</td>\n",
       "    </tr>\n",
       "    <tr>\n",
       "      <th>2</th>\n",
       "      <td>1138</td>\n",
       "      <td>sport</td>\n",
       "    </tr>\n",
       "    <tr>\n",
       "      <th>3</th>\n",
       "      <td>459</td>\n",
       "      <td>business</td>\n",
       "    </tr>\n",
       "    <tr>\n",
       "      <th>4</th>\n",
       "      <td>1020</td>\n",
       "      <td>sport</td>\n",
       "    </tr>\n",
       "  </tbody>\n",
       "</table>\n",
       "</div>"
      ],
      "text/plain": [
       "   ArticleId  Category\n",
       "0       1018     sport\n",
       "1       1319      tech\n",
       "2       1138     sport\n",
       "3        459  business\n",
       "4       1020     sport"
      ]
     },
     "execution_count": 23,
     "metadata": {},
     "output_type": "execute_result"
    }
   ],
   "source": [
    "submission_v2['Category'] = submission_v2['Category'].map({0:'business', 1:'entertainment', 2:'politics', 3:'sport', 4:'tech'})\n",
    "submission_v2.head()"
   ]
  },
  {
   "cell_type": "code",
   "execution_count": 24,
   "metadata": {},
   "outputs": [],
   "source": [
    "submission_v2.to_csv('submission_v2.csv', index=False)"
   ]
  }
 ],
 "metadata": {
  "kernelspec": {
   "display_name": "Python 3",
   "language": "python",
   "name": "python3"
  },
  "language_info": {
   "codemirror_mode": {
    "name": "ipython",
    "version": 3
   },
   "file_extension": ".py",
   "mimetype": "text/x-python",
   "name": "python",
   "nbconvert_exporter": "python",
   "pygments_lexer": "ipython3",
   "version": "3.8.8"
  }
 },
 "nbformat": 4,
 "nbformat_minor": 4
}
